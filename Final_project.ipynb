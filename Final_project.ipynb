{
 "cells": [
  {
   "cell_type": "code",
   "execution_count": null,
   "id": "aee839a1",
   "metadata": {},
   "outputs": [
    {
     "name": "stdout",
     "output_type": "stream",
     "text": [
      "<class 'pandas.core.frame.DataFrame'>\n",
      "Index: 93389 entries, 0 to 93571\n",
      "Data columns (total 5 columns):\n",
      " #   Column       Non-Null Count  Dtype  \n",
      "---  ------       --------------  -----  \n",
      " 0   datetime     93389 non-null  object \n",
      " 1   Price        93389 non-null  float64\n",
      " 2   kWh          93389 non-null  float64\n",
      " 3   Temperature  93372 non-null  float64\n",
      " 4   Bill         93389 non-null  float64\n",
      "dtypes: float64(4), object(1)\n",
      "memory usage: 4.3+ MB\n"
     ]
    },
    {
     "data": {
      "text/html": [
       "<div>\n",
       "<style scoped>\n",
       "    .dataframe tbody tr th:only-of-type {\n",
       "        vertical-align: middle;\n",
       "    }\n",
       "\n",
       "    .dataframe tbody tr th {\n",
       "        vertical-align: top;\n",
       "    }\n",
       "\n",
       "    .dataframe thead th {\n",
       "        text-align: right;\n",
       "    }\n",
       "</style>\n",
       "<table border=\"1\" class=\"dataframe\">\n",
       "  <thead>\n",
       "    <tr style=\"text-align: right;\">\n",
       "      <th></th>\n",
       "      <th>datetime</th>\n",
       "      <th>Price</th>\n",
       "      <th>kWh</th>\n",
       "      <th>Temperature</th>\n",
       "      <th>Bill</th>\n",
       "    </tr>\n",
       "  </thead>\n",
       "  <tbody>\n",
       "    <tr>\n",
       "      <th>0</th>\n",
       "      <td>2015-01-01</td>\n",
       "      <td>3.47</td>\n",
       "      <td>3.670</td>\n",
       "      <td>1.2</td>\n",
       "      <td>12.7</td>\n",
       "    </tr>\n",
       "    <tr>\n",
       "      <th>1</th>\n",
       "      <td>2015-01-01</td>\n",
       "      <td>3.40</td>\n",
       "      <td>4.148</td>\n",
       "      <td>1.5</td>\n",
       "      <td>14.1</td>\n",
       "    </tr>\n",
       "    <tr>\n",
       "      <th>2</th>\n",
       "      <td>2015-01-01</td>\n",
       "      <td>2.90</td>\n",
       "      <td>4.342</td>\n",
       "      <td>1.6</td>\n",
       "      <td>12.6</td>\n",
       "    </tr>\n",
       "    <tr>\n",
       "      <th>3</th>\n",
       "      <td>2015-01-01</td>\n",
       "      <td>2.40</td>\n",
       "      <td>2.095</td>\n",
       "      <td>2.8</td>\n",
       "      <td>5.0</td>\n",
       "    </tr>\n",
       "    <tr>\n",
       "      <th>4</th>\n",
       "      <td>2015-01-01</td>\n",
       "      <td>2.19</td>\n",
       "      <td>0.985</td>\n",
       "      <td>3.4</td>\n",
       "      <td>2.2</td>\n",
       "    </tr>\n",
       "  </tbody>\n",
       "</table>\n",
       "</div>"
      ],
      "text/plain": [
       "     datetime  Price    kWh  Temperature  Bill\n",
       "0  2015-01-01   3.47  3.670          1.2  12.7\n",
       "1  2015-01-01   3.40  4.148          1.5  14.1\n",
       "2  2015-01-01   2.90  4.342          1.6  12.6\n",
       "3  2015-01-01   2.40  2.095          2.8   5.0\n",
       "4  2015-01-01   2.19  0.985          3.4   2.2"
      ]
     },
     "metadata": {},
     "output_type": "display_data"
    },
    {
     "name": "stderr",
     "output_type": "stream",
     "text": [
      "/var/folders/01/x0nr3mn97vggrqx685hm1fth0000gn/T/ipykernel_841/1867838638.py:65: UserWarning: No artists with labels found to put in legend.  Note that artists whose label start with an underscore are ignored when legend() is called with no argument.\n",
      "  plt.legend()\n"
     ]
    },
    {
     "data": {
      "image/png": "[encoded data removed]",
      "text/plain": [
       "<Figure size 1200x300 with 1 Axes>"
      ]
     },
     "metadata": {},
     "output_type": "display_data"
    }
   ],
   "source": [
    "import pandas as pd\n",
    "\n",
    "# Read csv files\n",
    "\n",
    "df_consumption = pd.read_csv('Electricity_consumption_2015-2025.csv')\n",
    "df_price = pd.read_csv('Electricity_price_2015-2025.csv',delimiter=';')\n",
    "\n",
    "# Change time format of both files to Pandas datetime\n",
    "df_consumption['datetime'] = pd.to_datetime(df_consumption['time'], format = '%Y-%m-%d %H:%M:%S')\n",
    "df_price['datetime'] = pd.to_datetime(df_price['timestamp'], format = '%H:%M %m/%d/%Y')\n",
    "\n",
    "# Join the two data frames according to time\n",
    "\n",
    "df_merge = pd.merge(df_consumption,df_price,on='datetime', how='right')\n",
    "df_merge = df_merge[['datetime', 'Price', 'kWh', 'Temperature']]\n",
    "\n",
    "#format the price value and drop NA values\n",
    "\n",
    "df_merge= df_merge.dropna(subset=['Price', 'kWh'])\n",
    "df_merge[\"Price\"] = df_merge[\"Price\"].str.replace(\",\",\".\").astype(float)\n",
    "\n",
    "df_merge['datetime'] = pd.to_datetime(df_merge['datetime']).dt.date # , '%Y-%m-%d').date()\n",
    "\n",
    "# Calculate the hourly bill paid (using information about the price and the consumption)\n",
    "\n",
    "df_merge['Bill'] = (df_merge['Price'] * df_merge['kWh']).astype(float).apply(lambda x: round(x, 1))\n",
    "df_merge.reset_index()\n",
    "\n",
    "# Save to a csv file to use it for streamlit\n",
    "df_merge.to_csv('Electricity_consumption_price.csv', index=False)\n",
    "\n"
   ]
  }
 ],
 "metadata": {
  "kernelspec": {
   "display_name": "Python 3",
   "language": "python",
   "name": "python3"
  },
  "language_info": {
   "codemirror_mode": {
    "name": "ipython",
    "version": 3
   },
   "file_extension": ".py",
   "mimetype": "text/x-python",
   "name": "python",
   "nbconvert_exporter": "python",
   "pygments_lexer": "ipython3",
   "version": "3.13.7"
  }
 },
 "nbformat": 4,
 "nbformat_minor": 5
}
