{
 "cells": [
  {
   "cell_type": "code",
   "execution_count": 1,
   "id": "aee839a1",
   "metadata": {},
   "outputs": [],
   "source": [
    "import pandas as pd\n",
    "\n",
    "# Read csv files\n",
    "\n",
    "df_consumption = pd.read_csv('Electricity_consumption_2015-2025.csv')\n",
    "df_price = pd.read_csv('Electricity_price_2015-2025.csv',delimiter=';')\n",
    "\n",
    "# Change time format of both files to Pandas datetime\n",
    "df_consumption['datetime'] = pd.to_datetime(df_consumption['time'], format = '%Y-%m-%d %H:%M:%S')\n",
    "df_price['datetime'] = pd.to_datetime(df_price['timestamp'], format = '%H:%M %m/%d/%Y')\n",
    "\n",
    "# Join the two data frames according to time\n",
    "\n",
    "df_merge = pd.merge(df_consumption,df_price,on='datetime', how='right')\n",
    "df_merge = df_merge[['datetime', 'Price', 'kWh', 'Temperature']]\n",
    "\n",
    "#format the price value and drop NA values\n",
    "\n",
    "df_merge= df_merge.dropna(subset=['Price', 'kWh'])\n",
    "df_merge[\"Price\"] = df_merge[\"Price\"].str.replace(\",\",\".\").astype(float)\n",
    "\n",
    "df_merge['datetime'] = pd.to_datetime(df_merge['datetime']).dt.date # , '%Y-%m-%d').date()\n",
    "\n",
    "# Calculate the hourly bill paid (using information about the price and the consumption)\n",
    "\n",
    "df_merge['Bill'] = (df_merge['Price'] * df_merge['kWh']).astype(float).apply(lambda x: round(x, 1))\n",
    "df_merge.reset_index()\n",
    "\n",
    "# Save to a csv file to use it for streamlit\n",
    "df_merge.to_csv('Electricity_consumption_price.csv', index=False)\n",
    "\n"
   ]
  }
 ],
 "metadata": {
  "kernelspec": {
   "display_name": "Python 3",
   "language": "python",
   "name": "python3"
  },
  "language_info": {
   "codemirror_mode": {
    "name": "ipython",
    "version": 3
   },
   "file_extension": ".py",
   "mimetype": "text/x-python",
   "name": "python",
   "nbconvert_exporter": "python",
   "pygments_lexer": "ipython3",
   "version": "3.11.1"
  }
 },
 "nbformat": 4,
 "nbformat_minor": 5
}
